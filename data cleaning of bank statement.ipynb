{
 "cells": [
  {
   "cell_type": "code",
   "execution_count": 1,
   "id": "824f5033-76e2-4fdb-9d95-19b6d29376b3",
   "metadata": {},
   "outputs": [],
   "source": [
    "import pandas as pd\n",
    "import numpy as np\n",
    "import xarray as xr\n",
    "import seaborn as sns\n",
    "import matplotlib.pyplot as plt"
   ]
  },
  {
   "cell_type": "code",
   "execution_count": 2,
   "id": "5625b715-ed71-44ef-9170-7ed7d01eb188",
   "metadata": {},
   "outputs": [
    {
     "data": {
      "text/html": [
       "<div>\n",
       "<style scoped>\n",
       "    .dataframe tbody tr th:only-of-type {\n",
       "        vertical-align: middle;\n",
       "    }\n",
       "\n",
       "    .dataframe tbody tr th {\n",
       "        vertical-align: top;\n",
       "    }\n",
       "\n",
       "    .dataframe thead th {\n",
       "        text-align: right;\n",
       "    }\n",
       "</style>\n",
       "<table border=\"1\" class=\"dataframe\">\n",
       "  <thead>\n",
       "    <tr style=\"text-align: right;\">\n",
       "      <th></th>\n",
       "      <th>Trans. Date</th>\n",
       "      <th>Value Date</th>\n",
       "      <th>Reference</th>\n",
       "      <th>Debits</th>\n",
       "      <th>Credits</th>\n",
       "      <th>Balance</th>\n",
       "      <th>Originating Branch</th>\n",
       "      <th>Remarks</th>\n",
       "    </tr>\n",
       "  </thead>\n",
       "  <tbody>\n",
       "    <tr>\n",
       "      <th>0</th>\n",
       "      <td>1-Apr-23</td>\n",
       "      <td>31-Mar-23</td>\n",
       "      <td>NaN</td>\n",
       "      <td>NaN</td>\n",
       "      <td>14000.0</td>\n",
       "      <td>16835.63</td>\n",
       "      <td>E- CHANNELS</td>\n",
       "      <td>TRANSFER BETWEEN CUSTOMERS 0902672304010859126...</td>\n",
       "    </tr>\n",
       "    <tr>\n",
       "      <th>1</th>\n",
       "      <td>1-Apr-23</td>\n",
       "      <td>1-Apr-23</td>\n",
       "      <td>'0GWTR</td>\n",
       "      <td>800.00</td>\n",
       "      <td>NaN</td>\n",
       "      <td>16035.63</td>\n",
       "      <td>E- CHANNELS</td>\n",
       "      <td>TRANSFER BETWEEN CUSTOMERS REF:432441063000000...</td>\n",
       "    </tr>\n",
       "    <tr>\n",
       "      <th>2</th>\n",
       "      <td>1-Apr-23</td>\n",
       "      <td>1-Apr-23</td>\n",
       "      <td>'0NIPG</td>\n",
       "      <td>6000.00</td>\n",
       "      <td>NaN</td>\n",
       "      <td>10035.63</td>\n",
       "      <td>E- CHANNELS</td>\n",
       "      <td>NIBSS Instant Payment Outward 0000132304011129...</td>\n",
       "    </tr>\n",
       "    <tr>\n",
       "      <th>3</th>\n",
       "      <td>1-Apr-23</td>\n",
       "      <td>1-Apr-23</td>\n",
       "      <td>'0NIPG</td>\n",
       "      <td>25.00</td>\n",
       "      <td>NaN</td>\n",
       "      <td>10010.63</td>\n",
       "      <td>E- CHANNELS</td>\n",
       "      <td>NIP CHARGE 0000132304011129110 TRANSFER COMMIS...</td>\n",
       "    </tr>\n",
       "    <tr>\n",
       "      <th>4</th>\n",
       "      <td>1-Apr-23</td>\n",
       "      <td>1-Apr-23</td>\n",
       "      <td>'0NIPG</td>\n",
       "      <td>1.87</td>\n",
       "      <td>NaN</td>\n",
       "      <td>10008.76</td>\n",
       "      <td>E- CHANNELS</td>\n",
       "      <td>VALUE ADDED TAX 00001323040111 VAT ON NIP TRAN...</td>\n",
       "    </tr>\n",
       "  </tbody>\n",
       "</table>\n",
       "</div>"
      ],
      "text/plain": [
       "  Trans. Date Value Date Reference   Debits  Credits   Balance  \\\n",
       "0    1-Apr-23  31-Mar-23       NaN      NaN  14000.0  16835.63   \n",
       "1    1-Apr-23   1-Apr-23    '0GWTR   800.00      NaN  16035.63   \n",
       "2    1-Apr-23   1-Apr-23    '0NIPG  6000.00      NaN  10035.63   \n",
       "3    1-Apr-23   1-Apr-23    '0NIPG    25.00      NaN  10010.63   \n",
       "4    1-Apr-23   1-Apr-23    '0NIPG     1.87      NaN  10008.76   \n",
       "\n",
       "  Originating Branch                                            Remarks  \n",
       "0        E- CHANNELS  TRANSFER BETWEEN CUSTOMERS 0902672304010859126...  \n",
       "1        E- CHANNELS  TRANSFER BETWEEN CUSTOMERS REF:432441063000000...  \n",
       "2        E- CHANNELS  NIBSS Instant Payment Outward 0000132304011129...  \n",
       "3        E- CHANNELS  NIP CHARGE 0000132304011129110 TRANSFER COMMIS...  \n",
       "4        E- CHANNELS  VALUE ADDED TAX 00001323040111 VAT ON NIP TRAN...  "
      ]
     },
     "execution_count": 2,
     "metadata": {},
     "output_type": "execute_result"
    }
   ],
   "source": [
    "df=pd.read_csv(\"/Users/USER//Downloads/bank_statement.csv\")\n",
    "#df.set_index(\"Trans. Date\",inplace=True) to set the column you want as index\n",
    "df.head()"
   ]
  },
  {
   "cell_type": "code",
   "execution_count": 5,
   "id": "b1359a2c-b36b-4452-80b5-da14ec7ec0a7",
   "metadata": {},
   "outputs": [
    {
     "name": "stdout",
     "output_type": "stream",
     "text": [
      "<class 'pandas.core.frame.DataFrame'>\n",
      "RangeIndex: 84 entries, 0 to 83\n",
      "Data columns (total 8 columns):\n",
      " #   Column              Non-Null Count  Dtype  \n",
      "---  ------              --------------  -----  \n",
      " 0   Trans. Date         84 non-null     object \n",
      " 1   Value Date          84 non-null     object \n",
      " 2   Reference           70 non-null     object \n",
      " 3   Debits              74 non-null     float64\n",
      " 4   Credits             10 non-null     float64\n",
      " 5   Balance             84 non-null     float64\n",
      " 6   Originating Branch  84 non-null     object \n",
      " 7   Remarks             84 non-null     object \n",
      "dtypes: float64(3), object(5)\n",
      "memory usage: 5.4+ KB\n"
     ]
    }
   ],
   "source": [
    "df.info()"
   ]
  },
  {
   "cell_type": "code",
   "execution_count": 7,
   "id": "84698bef-fe6a-46f1-94ec-aed42851575f",
   "metadata": {},
   "outputs": [
    {
     "data": {
      "text/plain": [
       "Index(['trans_date', 'value_date', 'reference', 'debits', 'credits', 'balance',\n",
       "       'originating_branch', 'remarks'],\n",
       "      dtype='object')"
      ]
     },
     "execution_count": 7,
     "metadata": {},
     "output_type": "execute_result"
    }
   ],
   "source": [
    "for col in df.columns:\n",
    "    new_col = col.replace(\".\", \"\").replace(\" \", \"_\").lower()\n",
    "    df.rename(columns={col: new_col}, inplace=True)\n",
    "df.columns"
   ]
  },
  {
   "cell_type": "code",
   "execution_count": 9,
   "id": "a76e43f8-7209-472a-bc17-362d55a58675",
   "metadata": {},
   "outputs": [
    {
     "data": {
      "text/plain": [
       "Index(['trans_date', 'debits', 'credits', 'balance', 'originating_branch',\n",
       "       'remarks'],\n",
       "      dtype='object')"
      ]
     },
     "execution_count": 9,
     "metadata": {},
     "output_type": "execute_result"
    }
   ],
   "source": [
    "df.drop(['value_date','reference'],axis=1,inplace=True)\n",
    "df.columns"
   ]
  },
  {
   "cell_type": "code",
   "execution_count": 11,
   "id": "6b201b11-d6b9-4b42-b0e2-5d53b0cfae69",
   "metadata": {},
   "outputs": [
    {
     "data": {
      "text/plain": [
       "trans_date             0\n",
       "debits                10\n",
       "credits               74\n",
       "balance                0\n",
       "originating_branch     0\n",
       "remarks                0\n",
       "dtype: int64"
      ]
     },
     "execution_count": 11,
     "metadata": {},
     "output_type": "execute_result"
    }
   ],
   "source": [
    "df.isna().sum()"
   ]
  },
  {
   "cell_type": "code",
   "execution_count": 13,
   "id": "758d378e-63cc-4012-8e05-82444e9d6826",
   "metadata": {},
   "outputs": [
    {
     "data": {
      "text/plain": [
       "trans_date             0\n",
       "debits                10\n",
       "credits               74\n",
       "balance                0\n",
       "originating_branch     0\n",
       "remarks                0\n",
       "dtype: int64"
      ]
     },
     "execution_count": 13,
     "metadata": {},
     "output_type": "execute_result"
    }
   ],
   "source": [
    "null_rows = np.where(pd.isnull(df.trans_date))[0]\n",
    "\n",
    "df.drop(labels=null_rows, inplace=True)\n",
    "\n",
    "df.isna().sum()"
   ]
  },
  {
   "cell_type": "code",
   "execution_count": 15,
   "id": "c82afc99-0bd2-4d36-a59b-6f3374f68ecf",
   "metadata": {},
   "outputs": [],
   "source": [
    "df.reset_index(drop=True, inplace=True)\n",
    "\n"
   ]
  },
  {
   "cell_type": "code",
   "execution_count": 17,
   "id": "52c237d0-cd65-4385-b09b-816dbe366089",
   "metadata": {},
   "outputs": [
    {
     "data": {
      "text/plain": [
       "trans_date            0\n",
       "debits                0\n",
       "credits               0\n",
       "balance               0\n",
       "originating_branch    0\n",
       "remarks               0\n",
       "dtype: int64"
      ]
     },
     "execution_count": 17,
     "metadata": {},
     "output_type": "execute_result"
    }
   ],
   "source": [
    "df.fillna(0, inplace=True)\n",
    "df.isna().sum()"
   ]
  },
  {
   "cell_type": "code",
   "execution_count": 19,
   "id": "9eda5285-7acf-4a51-aaa7-0ec4b550e4c9",
   "metadata": {},
   "outputs": [
    {
     "data": {
      "text/html": [
       "<div>\n",
       "<style scoped>\n",
       "    .dataframe tbody tr th:only-of-type {\n",
       "        vertical-align: middle;\n",
       "    }\n",
       "\n",
       "    .dataframe tbody tr th {\n",
       "        vertical-align: top;\n",
       "    }\n",
       "\n",
       "    .dataframe thead th {\n",
       "        text-align: right;\n",
       "    }\n",
       "</style>\n",
       "<table border=\"1\" class=\"dataframe\">\n",
       "  <thead>\n",
       "    <tr style=\"text-align: right;\">\n",
       "      <th></th>\n",
       "      <th>trans_date</th>\n",
       "      <th>debits</th>\n",
       "      <th>credits</th>\n",
       "      <th>balance</th>\n",
       "      <th>originating_branch</th>\n",
       "      <th>remarks</th>\n",
       "    </tr>\n",
       "  </thead>\n",
       "  <tbody>\n",
       "    <tr>\n",
       "      <th>0</th>\n",
       "      <td>1-Apr-23</td>\n",
       "      <td>0.00</td>\n",
       "      <td>14000.0</td>\n",
       "      <td>16835.63</td>\n",
       "      <td>E- CHANNELS</td>\n",
       "      <td>TRANSFER BETWEEN CUSTOMERS 0902672304010859126...</td>\n",
       "    </tr>\n",
       "    <tr>\n",
       "      <th>1</th>\n",
       "      <td>1-Apr-23</td>\n",
       "      <td>800.00</td>\n",
       "      <td>0.0</td>\n",
       "      <td>16035.63</td>\n",
       "      <td>E- CHANNELS</td>\n",
       "      <td>TRANSFER BETWEEN CUSTOMERS REF:432441063000000...</td>\n",
       "    </tr>\n",
       "    <tr>\n",
       "      <th>2</th>\n",
       "      <td>1-Apr-23</td>\n",
       "      <td>6000.00</td>\n",
       "      <td>0.0</td>\n",
       "      <td>10035.63</td>\n",
       "      <td>E- CHANNELS</td>\n",
       "      <td>NIBSS Instant Payment Outward 0000132304011129...</td>\n",
       "    </tr>\n",
       "    <tr>\n",
       "      <th>3</th>\n",
       "      <td>1-Apr-23</td>\n",
       "      <td>25.00</td>\n",
       "      <td>0.0</td>\n",
       "      <td>10010.63</td>\n",
       "      <td>E- CHANNELS</td>\n",
       "      <td>NIP CHARGE 0000132304011129110 TRANSFER COMMIS...</td>\n",
       "    </tr>\n",
       "    <tr>\n",
       "      <th>4</th>\n",
       "      <td>1-Apr-23</td>\n",
       "      <td>1.87</td>\n",
       "      <td>0.0</td>\n",
       "      <td>10008.76</td>\n",
       "      <td>E- CHANNELS</td>\n",
       "      <td>VALUE ADDED TAX 00001323040111 VAT ON NIP TRAN...</td>\n",
       "    </tr>\n",
       "  </tbody>\n",
       "</table>\n",
       "</div>"
      ],
      "text/plain": [
       "  trans_date   debits  credits   balance originating_branch  \\\n",
       "0   1-Apr-23     0.00  14000.0  16835.63        E- CHANNELS   \n",
       "1   1-Apr-23   800.00      0.0  16035.63        E- CHANNELS   \n",
       "2   1-Apr-23  6000.00      0.0  10035.63        E- CHANNELS   \n",
       "3   1-Apr-23    25.00      0.0  10010.63        E- CHANNELS   \n",
       "4   1-Apr-23     1.87      0.0  10008.76        E- CHANNELS   \n",
       "\n",
       "                                             remarks  \n",
       "0  TRANSFER BETWEEN CUSTOMERS 0902672304010859126...  \n",
       "1  TRANSFER BETWEEN CUSTOMERS REF:432441063000000...  \n",
       "2  NIBSS Instant Payment Outward 0000132304011129...  \n",
       "3  NIP CHARGE 0000132304011129110 TRANSFER COMMIS...  \n",
       "4  VALUE ADDED TAX 00001323040111 VAT ON NIP TRAN...  "
      ]
     },
     "execution_count": 19,
     "metadata": {},
     "output_type": "execute_result"
    }
   ],
   "source": [
    "df.head()"
   ]
  },
  {
   "cell_type": "code",
   "execution_count": 21,
   "id": "51b5da52-5ded-4918-b4d8-5cc52f62a5d1",
   "metadata": {},
   "outputs": [],
   "source": [
    "df.to_csv(\"/Users/USER/Downloads/statementtt_csv.csv\",index=False)"
   ]
  },
  {
   "cell_type": "code",
   "execution_count": null,
   "id": "e6b08941-99ae-474a-b2d1-c03075e8ddea",
   "metadata": {},
   "outputs": [],
   "source": []
  }
 ],
 "metadata": {
  "kernelspec": {
   "display_name": "Python 3 (ipykernel)",
   "language": "python",
   "name": "python3"
  },
  "language_info": {
   "codemirror_mode": {
    "name": "ipython",
    "version": 3
   },
   "file_extension": ".py",
   "mimetype": "text/x-python",
   "name": "python",
   "nbconvert_exporter": "python",
   "pygments_lexer": "ipython3",
   "version": "3.12.4"
  }
 },
 "nbformat": 4,
 "nbformat_minor": 5
}
